{
 "cells": [
  {
   "cell_type": "code",
   "execution_count": 2,
   "metadata": {},
   "outputs": [],
   "source": [
    "import os\n",
    "import json\n",
    "import pandas as pd"
   ]
  },
  {
   "cell_type": "code",
   "execution_count": 5,
   "metadata": {},
   "outputs": [
    {
     "data": {
      "text/plain": [
       "784"
      ]
     },
     "execution_count": 5,
     "metadata": {},
     "output_type": "execute_result"
    }
   ],
   "source": [
    "# Funkcia na rekurzívne prehľadávanie priečinkov a načítavanie JSON súborov\n",
    "def load_annotations_from_directory(base_dir):\n",
    "    annotations = []\n",
    "    videos = 0\n",
    "    for root, dirs, files in os.walk(base_dir):\n",
    "        for file in files:\n",
    "            if file.endswith('.mkv'):\n",
    "                videos += 1\n",
    "                #file_path = os.path.join(root, file)\n",
    "                #with open(file_path, 'r') as f:\n",
    "                #    data = json.load(f)\n",
    "                #    annotations.append(data)\n",
    "    return videos\n",
    "\n",
    "load_annotations_from_directory('/workspace/goal_spotting/.scratch/SoccerNet')"
   ]
  },
  {
   "cell_type": "code",
   "execution_count": 4,
   "metadata": {},
   "outputs": [
    {
     "name": "stdout",
     "output_type": "stream",
     "text": [
      "Počet načítaných anotácií: 500\n"
     ]
    }
   ],
   "source": [
    "# Cesta k hlavnej zložke SoccerNet datasetu\n",
    "base_dir = '/workspace/goal_spotting/.scratch/dataset224'\n",
    "all_annotations = load_annotations_from_directory(base_dir)\n",
    "\n",
    "print(f\"Počet načítaných anotácií: {len(all_annotations)}\")"
   ]
  },
  {
   "cell_type": "code",
   "execution_count": 5,
   "metadata": {},
   "outputs": [],
   "source": [
    "# Funkcia na extrahovanie udalostí z anotácií a ich uloženie do DataFrame\n",
    "def annotations_to_dataframe(annotations):\n",
    "    data = []\n",
    "    match_id = 0\n",
    "    for match in annotations:\n",
    "        for event in match.get('annotations', []):\n",
    "            event_data = {\n",
    "                'match_id': match_id,\n",
    "                'game_time': event.get('gameTime'),\n",
    "                'event_type': event.get('label'),\n",
    "                'position': event.get('position'),\n",
    "                'team': event.get('team'),\n",
    "                'visibility': event.get('visibility')\n",
    "            }\n",
    "            data.append(event_data)\n",
    "        match_id += 1\n",
    "    \n",
    "    # Konvertujeme zoznam udalostí na DataFrame\n",
    "    df = pd.DataFrame(data)\n",
    "    return df"
   ]
  },
  {
   "cell_type": "code",
   "execution_count": 6,
   "metadata": {},
   "outputs": [
    {
     "name": "stdout",
     "output_type": "stream",
     "text": [
      "   match_id  game_time        event_type position            team visibility\n",
      "0         0  1 - 00:00          Kick-off      136            away    visible\n",
      "1         0  1 - 00:07  Ball out of play     7090  not applicable    visible\n",
      "2         0  1 - 00:21          Throw-in    21479            away    visible\n",
      "3         0  1 - 00:33  Ball out of play    33964  not applicable    visible\n",
      "4         0  1 - 00:51          Throw-in    51397            away    visible\n"
     ]
    }
   ],
   "source": [
    "# Predpokladáme, že máš načítané anotácie\n",
    "df_annotations = annotations_to_dataframe(all_annotations)\n",
    "\n",
    "# Ukáž prvé riadky z DataFrame\n",
    "print(df_annotations.head())"
   ]
  },
  {
   "cell_type": "code",
   "execution_count": 7,
   "metadata": {},
   "outputs": [
    {
     "name": "stdout",
     "output_type": "stream",
     "text": [
      "<class 'pandas.core.frame.DataFrame'>\n",
      "RangeIndex: 110458 entries, 0 to 110457\n",
      "Data columns (total 6 columns):\n",
      " #   Column      Non-Null Count   Dtype \n",
      "---  ------      --------------   ----- \n",
      " 0   match_id    110458 non-null  int64 \n",
      " 1   game_time   110458 non-null  object\n",
      " 2   event_type  110458 non-null  object\n",
      " 3   position    110458 non-null  object\n",
      " 4   team        110458 non-null  object\n",
      " 5   visibility  110458 non-null  object\n",
      "dtypes: int64(1), object(5)\n",
      "memory usage: 5.1+ MB\n",
      "None\n"
     ]
    }
   ],
   "source": [
    "print(df_annotations.info())"
   ]
  },
  {
   "cell_type": "code",
   "execution_count": 8,
   "metadata": {},
   "outputs": [
    {
     "name": "stdout",
     "output_type": "stream",
     "text": [
      "            match_id\n",
      "count  110458.000000\n",
      "mean      247.879674\n",
      "std       143.564108\n",
      "min         0.000000\n",
      "25%       125.000000\n",
      "50%       249.000000\n",
      "75%       369.000000\n",
      "max       499.000000\n"
     ]
    }
   ],
   "source": [
    "print(df_annotations.describe())"
   ]
  },
  {
   "cell_type": "code",
   "execution_count": 9,
   "metadata": {},
   "outputs": [
    {
     "name": "stdout",
     "output_type": "stream",
     "text": [
      "Ball out of play      31810\n",
      "Throw-in              18918\n",
      "Foul                  11674\n",
      "Indirect free-kick    10521\n",
      "Clearance              7896\n",
      "Shots on target        5820\n",
      "Shots off target       5256\n",
      "Corner                 4836\n",
      "Substitution           2839\n",
      "Kick-off               2566\n",
      "Direct free-kick       2200\n",
      "Offside                2098\n",
      "Yellow card            2047\n",
      "Goal                   1703\n",
      "Penalty                 173\n",
      "Red card                 55\n",
      "Yellow->red card         46\n",
      "Name: event_type, dtype: int64\n"
     ]
    }
   ],
   "source": [
    "event_counts = df_annotations['event_type'].value_counts()\n",
    "print(event_counts)"
   ]
  },
  {
   "cell_type": "code",
   "execution_count": 10,
   "metadata": {},
   "outputs": [
    {
     "name": "stdout",
     "output_type": "stream",
     "text": [
      "220.916\n"
     ]
    }
   ],
   "source": [
    "# Počet udalostí na zápas\n",
    "events_per_match = df_annotations.groupby('match_id').size()\n",
    "print(events_per_match.mean())"
   ]
  },
  {
   "cell_type": "code",
   "execution_count": 11,
   "metadata": {},
   "outputs": [
    {
     "data": {
      "image/png": "[encoded data removed]",
      "text/plain": [
       "<Figure size 432x288 with 1 Axes>"
      ]
     },
     "metadata": {
      "needs_background": "light"
     },
     "output_type": "display_data"
    }
   ],
   "source": [
    "# Extrahovanie minút z 'game_time' (predpokladá, že 'game_time' má formát \"polčas - MM:SS\")\n",
    "df_annotations['minute'] = df_annotations['game_time'].apply(lambda x: int(x.split(' - ')[1].split(':')[0]) + (45 if x.split(' - ')[0] == '2' else 0))\n",
    "\n",
    "# Histogram rozloženia udalostí podľa minúty\n",
    "import matplotlib.pyplot as plt\n",
    "\n",
    "plt.hist(df_annotations['minute'], bins=100, edgecolor='black')\n",
    "plt.xlabel('Minúta zápasu')\n",
    "plt.ylabel('Počet udalostí')\n",
    "plt.title('Rozloženie udalostí podľa minúty zápasu')\n",
    "plt.show()"
   ]
  },
  {
   "cell_type": "code",
   "execution_count": 12,
   "metadata": {},
   "outputs": [
    {
     "name": "stdout",
     "output_type": "stream",
     "text": [
      "visible      90781\n",
      "not shown    19677\n",
      "Name: visibility, dtype: int64\n"
     ]
    },
    {
     "data": {
      "image/png": "[encoded data removed]",
      "text/plain": [
       "<Figure size 432x288 with 1 Axes>"
      ]
     },
     "metadata": {},
     "output_type": "display_data"
    }
   ],
   "source": [
    "# Počet udalostí podľa viditeľnosti\n",
    "visibility_counts = df_annotations['visibility'].value_counts()\n",
    "print(visibility_counts)\n",
    "\n",
    "# Vizualizácia ako pie chart\n",
    "visibility_counts.plot(kind='pie', autopct='%1.1f%%')\n",
    "plt.title('Rozdelenie udalostí podľa viditeľnosti')\n",
    "plt.show()"
   ]
  },
  {
   "cell_type": "code",
   "execution_count": 13,
   "metadata": {},
   "outputs": [
    {
     "name": "stdout",
     "output_type": "stream",
     "text": [
      "3.5928270042194095\n"
     ]
    }
   ],
   "source": [
    "# Počet gólov na zápas\n",
    "goals = df_annotations[df_annotations['event_type'] == 'Goal']\n",
    "goals_per_match = goals.groupby('match_id').size()\n",
    "print(goals_per_match.mean())"
   ]
  },
  {
   "cell_type": "code",
   "execution_count": 14,
   "metadata": {},
   "outputs": [
    {
     "data": {
      "image/png": "[encoded data removed]",
      "text/plain": [
       "<Figure size 432x288 with 1 Axes>"
      ]
     },
     "metadata": {
      "needs_background": "light"
     },
     "output_type": "display_data"
    }
   ],
   "source": [
    "# Histogram rozloženia gólov podľa minúty\n",
    "plt.hist(goals['minute'], bins=100, edgecolor='black')\n",
    "plt.xlabel('Minúta zápasu')\n",
    "plt.ylabel('Počet gólov')\n",
    "plt.title('Rozloženie gólov podľa minúty zápasu')\n",
    "plt.show()"
   ]
  },
  {
   "cell_type": "code",
   "execution_count": 15,
   "metadata": {},
   "outputs": [
    {
     "name": "stdout",
     "output_type": "stream",
     "text": [
      "Ball out of play      31810\n",
      "Throw-in              18918\n",
      "Foul                  11674\n",
      "Indirect free-kick    10521\n",
      "Clearance              7896\n",
      "Shots on target        5820\n",
      "Shots off target       5256\n",
      "Corner                 4836\n",
      "Substitution           2839\n",
      "Kick-off               2566\n",
      "Direct free-kick       2200\n",
      "Offside                2098\n",
      "Yellow card            2047\n",
      "Goal                   1703\n",
      "Penalty                 173\n",
      "Red card                 55\n",
      "Yellow->red card         46\n",
      "Name: event_type, dtype: int64\n"
     ]
    }
   ],
   "source": [
    "# Spočítaj počet výskytov každej akcie\n",
    "action_counts = df_annotations['event_type'].value_counts()\n",
    "print(action_counts)"
   ]
  },
  {
   "cell_type": "markdown",
   "metadata": {},
   "source": [
    "1. Goly: Goals\n",
    "2. Velke sance: Clearance, , Penalty, Shots on target, Shots off target, Corner\n",
    "3. Nie sance: Kick-off, Substitution, Ball out of play, Throw-in"
   ]
  }
 ],
 "metadata": {
  "kernelspec": {
   "display_name": "Python 3",
   "language": "python",
   "name": "python3"
  },
  "language_info": {
   "codemirror_mode": {
    "name": "ipython",
    "version": 3
   },
   "file_extension": ".py",
   "mimetype": "text/x-python",
   "name": "python",
   "nbconvert_exporter": "python",
   "pygments_lexer": "ipython3",
   "version": "3.8.10"
  }
 },
 "nbformat": 4,
 "nbformat_minor": 2
}
